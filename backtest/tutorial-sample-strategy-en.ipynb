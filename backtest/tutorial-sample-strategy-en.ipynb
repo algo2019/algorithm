{
 "cells": [
  {
   "cell_type": "code",
   "execution_count": 1,
   "metadata": {
    "collapsed": false
   },
   "outputs": [],
   "source": [
    "%matplotlib inline"
   ]
  },
  {
   "cell_type": "code",
   "execution_count": 3,
   "metadata": {
    "collapsed": false
   },
   "outputs": [
    {
     "ename": "ImportError",
     "evalue": "No module named myalgotrade",
     "traceback": [
      "\u001b[0;31m---------------------------------------------------------------------------\u001b[0m",
      "\u001b[0;31mImportError\u001b[0m                               Traceback (most recent call last)",
      "\u001b[0;32m<ipython-input-3-e62a31ca5ad8>\u001b[0m in \u001b[0;36m<module>\u001b[0;34m()\u001b[0m\n\u001b[0;32m----> 1\u001b[0;31m \u001b[0;32mimport\u001b[0m \u001b[0mmyalgotrade\u001b[0m\u001b[0;34m\u001b[0m\u001b[0m\n\u001b[0m",
      "\u001b[0;31mImportError\u001b[0m: No module named myalgotrade"
     ],
     "output_type": "error"
    }
   ],
   "source": [
    "import myalgotrade"
   ]
  },
  {
   "cell_type": "markdown",
   "metadata": {
    "slideshow": {
     "slide_type": "-"
    }
   },
   "source": [
    "# sample strategy"
   ]
  },
  {
   "cell_type": "markdown",
   "metadata": {},
   "source": [
    "Double average only long strategy, 10 minutes on the line to open, close the operation.\n",
    "The current price above the average line open long, under the average line to close."
   ]
  },
  {
   "cell_type": "code",
   "execution_count": 2,
   "metadata": {
    "collapsed": false
   },
   "outputs": [
    {
     "ename": "ImportError",
     "evalue": "No module named myalgotrade",
     "traceback": [
      "\u001b[0;31m---------------------------------------------------------------------------\u001b[0m",
      "\u001b[0;31mImportError\u001b[0m                               Traceback (most recent call last)",
      "\u001b[0;32m<ipython-input-2-007f8d69695e>\u001b[0m in \u001b[0;36m<module>\u001b[0;34m()\u001b[0m\n\u001b[1;32m      1\u001b[0m \u001b[0;31m# %load ./myalgotrade/strategy/sample.py\u001b[0m\u001b[0;34m\u001b[0m\u001b[0;34m\u001b[0m\u001b[0m\n\u001b[0;32m----> 2\u001b[0;31m \u001b[0;32mfrom\u001b[0m \u001b[0mmyalgotrade\u001b[0m \u001b[0;32mimport\u001b[0m \u001b[0mstrategy\u001b[0m\u001b[0;34m\u001b[0m\u001b[0m\n\u001b[0m\u001b[1;32m      3\u001b[0m \u001b[0;32mfrom\u001b[0m \u001b[0mpyalgotrade\u001b[0m\u001b[0;34m.\u001b[0m\u001b[0mtechnical\u001b[0m \u001b[0;32mimport\u001b[0m \u001b[0mma\u001b[0m\u001b[0;34m\u001b[0m\u001b[0m\n\u001b[1;32m      4\u001b[0m \u001b[0;32mimport\u001b[0m \u001b[0mmultiprocessing\u001b[0m\u001b[0;34m\u001b[0m\u001b[0m\n\u001b[1;32m      5\u001b[0m \u001b[0;34m\u001b[0m\u001b[0m\n",
      "\u001b[0;31mImportError\u001b[0m: No module named myalgotrade"
     ],
     "output_type": "error"
    }
   ],
   "source": [
    "# %load ./myalgotrade/strategy/sample.py\n",
    "from myalgotrade import strategy\n",
    "from pyalgotrade.technical import ma\n",
    "import multiprocessing\n",
    "\n",
    "\n",
    "class SampleStrategy(strategy.StrategyBase):\n",
    "    def __init__(self, bar_feed, log_path, params, cash):\n",
    "        super(SampleStrategy, self).__init__(bar_feed, log_path, params, cash_or_brk=cash)\n",
    "        self.instrument = bar_feed.getDefaultInstrument()  # InstrumentID\n",
    "        short_days = int(params['ma_short'])  # average params\n",
    "        long_days = int(params['ma_long'])\n",
    "        self.price_ds = bar_feed[self.instrument].getCloseDataSeries()  # history data\n",
    "        self.sma_short = ma.SMA(self.price_ds, short_days)  # A moving average sequence that is updated with the price sequence\n",
    "        self.sma_long = ma.SMA(self.price_ds, long_days)\n",
    "\n",
    "    # Returns a key based on the argument, which is used as the log name\n",
    "    @classmethod\n",
    "    def get_log_key(cls, params):\n",
    "        return '-'.join(str(params[key]) for key in sorted(params.keys()))\n",
    "\n",
    "    # Strategies to start\n",
    "    def on_start(self):\n",
    "        print 'start cash:', self.getBroker().getCash()\n",
    "\n",
    "    # Strategies to stop\n",
    "    def on_finish(self, bars):\n",
    "        print 'end cash:', self.getBroker().getCash()\n",
    "\n",
    "    # open success\n",
    "    def on_enter_ok(self, position):\n",
    "        entry_order = position.getEntryOrder()  # 该仓位的开仓orde\n",
    "        output = '\\t'.join(\n",
    "            str(i) for i in ('enter', position.getInstrument(), position.getShares(), entry_order.getAvgFillPrice()))\n",
    "        # self.info(output)\n",
    "\n",
    "    # open failed\n",
    "    def on_enter_canceled(self, position):\n",
    "        print 'enter canceled!'\n",
    "\n",
    "    # close success\n",
    "    def on_exit_ok(self, position):\n",
    "        exit_order = position.getExitOrder()\n",
    "        output = '\\t'.join(\n",
    "            str(i) for i in ('exit', position.getInstrument(), position.getShares(), exit_order.getAvgFillPrice()))\n",
    "        # self.info(output)\n",
    "\n",
    "    # close failed\n",
    "    def on_exit_canceled(self, position):\n",
    "        print 'exit caneled!'\n",
    "        position.exitMarket()  # To unwind\n",
    "\n",
    "    # order status update\n",
    "    def on_order_updated(self, order):\n",
    "        pass\n",
    "\n",
    "    # Each new bar data call is made once, and bars contains bars of all varieties at the same time\n",
    "    def on_bars(self, bars):\n",
    "        # print 'price:', bars[self.instrument].getClose()\n",
    "\n",
    "        # Too little data to calculate the ema\n",
    "        if self.sma_long[-1] is None:\n",
    "            # print 'not enough bars for sma, skipped'\n",
    "            return\n",
    "\n",
    "        # Take all positions\n",
    "        positions = list(self.getActivePositions())\n",
    "        if len(positions) > 1:\n",
    "            raise Exception('we should at most have one position in this strategy.')\n",
    "\n",
    "        # Price is above average and short position, open long position\n",
    "        if self.sma_short[-1] > self.sma_long[-1]:\n",
    "            if len(positions) == 0:\n",
    "                shares = 1\n",
    "                self.enterLong(self.instrument, shares, True)  # open with market price\n",
    "\n",
    "        # Price is below the average and there are positions, open positions\n",
    "        elif self.sma_short[-1] < self.sma_long[-1]:\n",
    "            if len(positions) == 1:\n",
    "                position = positions[0]\n",
    "                if not position.exitActive():\n",
    "                    position.exitMarket()  # close with market price\n",
    "\n",
    "\n"
   ]
  },
  {
   "cell_type": "markdown",
   "metadata": {},
   "source": [
    "## 回测运行示例 sql"
   ]
  },
  {
   "cell_type": "code",
   "execution_count": 4,
   "metadata": {
    "collapsed": false
   },
   "outputs": [],
   "source": [
    "# coding=utf-8\n",
    "from datetime import datetime\n",
    "from myalgotrade.util import dbutil\n",
    "from myalgotrade.feed import Frequency, feed_manager\n",
    "from myalgotrade import strategy\n",
    "import multiprocessing\n",
    "import pprint\n",
    "\n",
    "# See the next cell for parameter definitions\n",
    "def run_sample_sql(experiment_key, strategy_class, instrument, param, start, end, frequency, before_days=0):\n",
    "\n",
    "    # Obtain the main contract period of this variety\n",
    "    feed_infos = dbutil.get_dominant_contract_infos(instrument, frequency, start, end, before_days) \n",
    "    print 'feed infos:'\n",
    "    pprint.pprint(feed_infos)\n",
    "\n",
    "    feed_mng = feed_manager.DataServerFeedManager(feed_infos) # feed manager\n",
    "    feeds_dict = feed_mng.get_feeds_by_range(start, end) #get feed\n",
    "    print 'feeds:'\n",
    "    pprint.pprint(feeds_dict)\n",
    "\n",
    "    # log key Used to identify back-test the log file at a time, using experiment_key + instrument here\n",
    "    log_key = strategy.log_path_delimiter.join((experiment_key, instrument))\n",
    "    result = strategy.run_strategy(strategy_class, feeds_dict, log_key, param, initial_cash=1000000, use_previous_cash=False)\n",
    "\n",
    "#     process = multiprocessing.Process(target=result.analyze_result.plotEquityCurve, args=(log_key,))\n",
    "#     process.start()  # Notebook cannot open multiple processes, running in other ides\n",
    "\n",
    "    return result, log_key"
   ]
  },
  {
   "cell_type": "code",
   "execution_count": 5,
   "metadata": {
    "collapsed": false
   },
   "outputs": [
    {
     "name": "stdout",
     "output_type": "stream",
     "text": [
      "{'afterday': 0,\n",
      " 'beforday': 0,\n",
      " 'commodity': 'SR',\n",
      " 'dataName': 'domInfo',\n",
      " 'end': datetime.datetime(2014, 6, 1, 0, 0),\n",
      " 'start': datetime.datetime(2014, 1, 1, 0, 0)}\n",
      "feed infos:\n",
      "{'SR1405': (600,\n",
      "            datetime.datetime(2014, 1, 2, 0, 0),\n",
      "            (datetime.datetime(2014, 6, 10, 0, 0), )),\n",
      " 'SR1409': (600,\n",
      "            datetime.datetime(2014, 2, 21, 0, 0),\n",
      "            (datetime.datetime(2014, 6, 10, 0, 0), ))}\n"
     ]
    },
    {
     "ename": "TypeError",
     "evalue": "can't compare datetime.datetime to pyodbc.Row",
     "traceback": [
      "\u001b[1;31m---------------------------------------------------------------------------\u001b[0m",
      "\u001b[1;31mTypeError\u001b[0m                                 Traceback (most recent call last)",
      "\u001b[1;32m<ipython-input-5-85143838b720>\u001b[0m in \u001b[0;36m<module>\u001b[1;34m()\u001b[0m\n\u001b[0;32m     11\u001b[0m )\n\u001b[0;32m     12\u001b[0m \u001b[1;33m\u001b[0m\u001b[0m\n\u001b[1;32m---> 13\u001b[1;33m \u001b[0mresult\u001b[0m\u001b[1;33m,\u001b[0m \u001b[0mlog_key\u001b[0m \u001b[1;33m=\u001b[0m \u001b[0mrun_sample_sql\u001b[0m\u001b[1;33m(\u001b[0m\u001b[0minstrument\u001b[0m\u001b[1;33m=\u001b[0m\u001b[1;34m'SR'\u001b[0m\u001b[1;33m,\u001b[0m \u001b[1;33m**\u001b[0m\u001b[0margs\u001b[0m\u001b[1;33m)\u001b[0m\u001b[1;33m\u001b[0m\u001b[0m\n\u001b[0m",
      "\u001b[1;32m<ipython-input-4-a8b0d1253842>\u001b[0m in \u001b[0;36mrun_sample_sql\u001b[1;34m(experiment_key, strategy_class, instrument, param, start, end, frequency, before_days)\u001b[0m\n\u001b[0;32m     16\u001b[0m \u001b[1;33m\u001b[0m\u001b[0m\n\u001b[0;32m     17\u001b[0m     \u001b[0mfeed_mng\u001b[0m \u001b[1;33m=\u001b[0m \u001b[0mfeed_manager\u001b[0m\u001b[1;33m.\u001b[0m\u001b[0mDataServerFeedManager\u001b[0m\u001b[1;33m(\u001b[0m\u001b[0mfeed_infos\u001b[0m\u001b[1;33m)\u001b[0m \u001b[1;31m# feed管理器\u001b[0m\u001b[1;33m\u001b[0m\u001b[0m\n\u001b[1;32m---> 18\u001b[1;33m     \u001b[0mfeeds_dict\u001b[0m \u001b[1;33m=\u001b[0m \u001b[0mfeed_mng\u001b[0m\u001b[1;33m.\u001b[0m\u001b[0mget_feeds_by_range\u001b[0m\u001b[1;33m(\u001b[0m\u001b[0mstart\u001b[0m\u001b[1;33m,\u001b[0m \u001b[0mend\u001b[0m\u001b[1;33m)\u001b[0m \u001b[1;31m#获取feed\u001b[0m\u001b[1;33m\u001b[0m\u001b[0m\n\u001b[0m\u001b[0;32m     19\u001b[0m     \u001b[1;32mprint\u001b[0m \u001b[1;34m'feeds:'\u001b[0m\u001b[1;33m\u001b[0m\u001b[0m\n\u001b[0;32m     20\u001b[0m     \u001b[0mpprint\u001b[0m\u001b[1;33m.\u001b[0m\u001b[0mpprint\u001b[0m\u001b[1;33m(\u001b[0m\u001b[0mfeeds_dict\u001b[0m\u001b[1;33m)\u001b[0m\u001b[1;33m\u001b[0m\u001b[0m\n",
      "\u001b[1;32mD:\\workspace\\project\\algotrade\\myalgotrade\\feed\\feed_manager.py\u001b[0m in \u001b[0;36mget_feeds_by_range\u001b[1;34m(self, start_datetime, end_datetime, instrument_fileter)\u001b[0m\n\u001b[0;32m    101\u001b[0m                     \u001b[0mfrequency\u001b[0m\u001b[1;33m,\u001b[0m\u001b[1;33m\u001b[0m\u001b[0m\n\u001b[0;32m    102\u001b[0m                     \u001b[0mmax\u001b[0m\u001b[1;33m(\u001b[0m\u001b[0mstart_datetime\u001b[0m\u001b[1;33m,\u001b[0m \u001b[0mtotal_start_datetime\u001b[0m\u001b[1;33m)\u001b[0m\u001b[1;33m,\u001b[0m\u001b[1;33m\u001b[0m\u001b[0m\n\u001b[1;32m--> 103\u001b[1;33m                     \u001b[0mmin\u001b[0m\u001b[1;33m(\u001b[0m\u001b[0mend_datetime\u001b[0m\u001b[1;33m,\u001b[0m \u001b[0mtotal_end_datetime\u001b[0m\u001b[1;33m)\u001b[0m\u001b[1;33m\u001b[0m\u001b[0m\n\u001b[0m\u001b[0;32m    104\u001b[0m                 )\n\u001b[0;32m    105\u001b[0m         \u001b[0mfeed_dict\u001b[0m \u001b[1;33m=\u001b[0m \u001b[1;33m{\u001b[0m\u001b[1;33m}\u001b[0m\u001b[1;33m\u001b[0m\u001b[0m\n",
      "\u001b[1;31mTypeError\u001b[0m: can't compare datetime.datetime to pyodbc.Row"
     ],
     "output_type": "error"
    }
   ],
   "source": [
    "\n",
    "args = dict(\n",
    "    experiment_key = 'tutorial',            # The log identifier\n",
    "    strategy_class = SampleStrategy,        # Policy class for backtesting\n",
    "    param = {'ma_short': 5, 'ma_long':40},  # Strategy parameters\n",
    "    start = datetime(2014, 1, 1),           # The start time\n",
    "    end = datetime(2014, 6, 1),             # The end of time\n",
    "    frequency = Frequency.MINUTE * 10,      # The frequency of bar input, this is 10 minutes\n",
    "    before_days = 0,                        # How many days before becoming the main contract to start collecting data\n",
    "    #instrument = 'SR',                     # Varieties of commodities\n",
    ")\n",
    "\n",
    "result, log_key = run_sample_sql(instrument='SR', **args)"
   ]
  },
  {
   "cell_type": "code",
   "execution_count": null,
   "metadata": {
    "collapsed": false
   },
   "outputs": [],
   "source": [
    "pprint.pprint(result)"
   ]
  },
  {
   "cell_type": "code",
   "execution_count": null,
   "metadata": {
    "collapsed": false
   },
   "outputs": [],
   "source": [
    "result.show_result()"
   ]
  },
  {
   "cell_type": "code",
   "execution_count": null,
   "metadata": {
    "collapsed": false
   },
   "outputs": [],
   "source": [
    "'''day_summary_log is the daily settlement, the daily sum of profits\n",
    "    trade_log is a trade record\n",
    "    analyze_result is the analysis result object\n",
    "    sub_records is a subrecord, and there are two records for each contract\n",
    "'''\n",
    "type(result.analyze_result)"
   ]
  },
  {
   "cell_type": "code",
   "execution_count": null,
   "metadata": {
    "collapsed": false
   },
   "outputs": [],
   "source": [
    "result.analyze_result.plotEquityCurve(log_key)"
   ]
  },
  {
   "cell_type": "code",
   "execution_count": null,
   "metadata": {
    "collapsed": false
   },
   "outputs": [],
   "source": [
    "# Pick one of the contracts\n",
    "sub_result = result.sub_records['SR1409']\n",
    "sub_result"
   ]
  },
  {
   "cell_type": "code",
   "execution_count": null,
   "metadata": {
    "collapsed": false
   },
   "outputs": [],
   "source": [
    "# Analyze the results\n",
    "sub_result.analyze()\n",
    "sub_result"
   ]
  },
  {
   "cell_type": "code",
   "execution_count": null,
   "metadata": {
    "collapsed": false
   },
   "outputs": [],
   "source": [
    "sub_result.show_result()"
   ]
  },
  {
   "cell_type": "code",
   "execution_count": null,
   "metadata": {
    "collapsed": false
   },
   "outputs": [],
   "source": [
    "sub_result.analyze_result.plotEquityCurve()"
   ]
  },
  {
   "cell_type": "code",
   "execution_count": null,
   "metadata": {
    "collapsed": false
   },
   "outputs": [],
   "source": [
    "!head $result.trade_log\n",
    "!head $result.day_summary_log"
   ]
  },
  {
   "cell_type": "code",
   "execution_count": null,
   "metadata": {
    "collapsed": false
   },
   "outputs": [],
   "source": [
    "# In many varieties of back test, it is best not to run notebook, log too long too much, will be optimized in the future options\n",
    "for instrument in ['SR', 'L', 'P', 'M', 'RB', 'RU']:\n",
    "    result, log_key = run_sample_sql(instrument = str.upper(instrument), **args)\n",
    "    print log_key\n",
    "    result = result.analyze_result\n",
    "    result.plotEquityCurve(log_key)  # draw the picture directly\n",
    "#     process = multiprocessing.Process(target=result.plotEquityCurve, args=(log_key,)) # Instead of taking a notebook and drawing it with multiple processes\n",
    "#     process.start()\n",
    "print 'done'\n",
    "\n"
   ]
  },
  {
   "cell_type": "code",
   "execution_count": null,
   "metadata": {
    "collapsed": false
   },
   "outputs": [],
   "source": [
    "# View the results of multi-variety synthesis\n",
    "def get_combine_result(experiment_key, param_key, combine_set):\n",
    "    results = {}\n",
    "    for instrument in combine_set:\n",
    "            log_key = strategy.log_path_delimiter.join((experiment_key, instrument, param_key))\n",
    "            results[instrument] = strategy.StrategyRecord.construct_by_log_name(log_key)\n",
    "    result = strategy.combine_result(results, strategy.log_path_delimiter.join((experiment_key, param_key))).analyze_result\n",
    "    print experiment_key\n",
    "    print combine_set\n",
    "    return result"
   ]
  },
  {
   "cell_type": "code",
   "execution_count": null,
   "metadata": {
    "collapsed": false
   },
   "outputs": [],
   "source": [
    "param_key = SampleStrategy.get_log_key(args['param'])\n",
    "combine_set = ('SR', 'L', 'M', 'P')  #  The variety to be synthesized                           \n",
    "result = get_combine_result(args['experiment_key'], param_key, combine_set)\n",
    "result.show_result()\n",
    "result.plotEquityCurve()"
   ]
  },
  {
   "cell_type": "code",
   "execution_count": null,
   "metadata": {
    "collapsed": true
   },
   "outputs": [],
   "source": []
  }
 ],
 "metadata": {
  "kernelspec": {
   "display_name": "Python 2",
   "language": "python",
   "name": "python2"
  },
  "language_info": {
   "codemirror_mode": {
    "name": "ipython",
    "version": 2
   },
   "file_extension": ".py",
   "mimetype": "text/x-python",
   "name": "python",
   "nbconvert_exporter": "python",
   "pygments_lexer": "ipython2",
   "version": "2.7.11"
  }
 },
 "nbformat": 4,
 "nbformat_minor": 0
}
