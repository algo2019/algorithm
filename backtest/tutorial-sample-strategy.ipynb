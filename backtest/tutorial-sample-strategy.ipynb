{
 "cells": [
  {
   "cell_type": "code",
   "execution_count": 1,
   "metadata": {
    "collapsed": false
   },
   "outputs": [],
   "source": [
    "%matplotlib inline"
   ]
  },
  {
   "cell_type": "code",
   "execution_count": 2,
   "metadata": {
    "collapsed": false
   },
   "outputs": [],
   "source": [
    "import myalgotrade"
   ]
  },
  {
   "cell_type": "markdown",
   "metadata": {
    "slideshow": {
     "slide_type": "-"
    }
   },
   "source": [
    "# sample strategy"
   ]
  },
  {
   "cell_type": "markdown",
   "metadata": {},
   "source": [
    "双均线只做多策略，在10分钟线上进行开仓、平仓操作.\n",
    "当前价格上穿均线开仓做多,下穿均线平仓."
   ]
  },
  {
   "cell_type": "code",
   "execution_count": 3,
   "metadata": {
    "collapsed": false
   },
   "outputs": [],
   "source": [
    "# %load /Users/jnq/work/commodity/backtest_platform/myalgotrade/strategy/sample.py\n",
    "from myalgotrade import strategy\n",
    "from pyalgotrade.technical import ma\n",
    "import multiprocessing\n",
    "\n",
    "\n",
    "class SampleStrategy(strategy.StrategyBase):\n",
    "    def __init__(self, bar_feed, log_path, params, cash):\n",
    "        super(SampleStrategy, self).__init__(bar_feed, log_path, params, cash_or_brk=cash)\n",
    "        self.instrument = bar_feed.getDefaultInstrument()  # 合约名\n",
    "        short_days = int(params['ma_short'])  # 均线参数\n",
    "        long_days = int(params['ma_long'])\n",
    "        self.price_ds = bar_feed[self.instrument].getCloseDataSeries()  # 历史价格序列\n",
    "        self.sma_short = ma.SMA(self.price_ds, short_days)  # 均线序列,随价格序列更新而更新\n",
    "        self.sma_long = ma.SMA(self.price_ds, long_days)\n",
    "\n",
    "    # 根据参数返回一个key, 用作log名\n",
    "    @classmethod\n",
    "    def get_log_key(cls, params):\n",
    "        return '-'.join(str(params[key]) for key in sorted(params.keys()))\n",
    "\n",
    "    # 策略开始\n",
    "    def on_start(self):\n",
    "        print 'start cash:', self.getBroker().getCash()\n",
    "\n",
    "    # 策略结束\n",
    "    def on_finish(self, bars):\n",
    "        print 'end cash:', self.getBroker().getCash()\n",
    "\n",
    "    # 开仓成功\n",
    "    def on_enter_ok(self, position):\n",
    "        entry_order = position.getEntryOrder()  # 该仓位的开仓orde\n",
    "        output = '\\t'.join(\n",
    "            str(i) for i in ('enter', position.getInstrument(), position.getShares(), entry_order.getAvgFillPrice()))\n",
    "        # self.info(output)\n",
    "\n",
    "    # 开仓失败\n",
    "    def on_enter_canceled(self, position):\n",
    "        print 'enter canceled!'\n",
    "\n",
    "    # 平仓成功\n",
    "    def on_exit_ok(self, position):\n",
    "        exit_order = position.getExitOrder()\n",
    "        output = '\\t'.join(\n",
    "            str(i) for i in ('exit', position.getInstrument(), position.getShares(), exit_order.getAvgFillPrice()))\n",
    "        # self.info(output)\n",
    "\n",
    "    # 平仓失败\n",
    "    def on_exit_canceled(self, position):\n",
    "        print 'exit caneled!'\n",
    "        position.exitMarket()  # 重新平仓\n",
    "\n",
    "    # 订单状态更新\n",
    "    def on_order_updated(self, order):\n",
    "        pass\n",
    "\n",
    "    # 每个新bar数据调用一次, bars包含相同时间内所有品种的bar\n",
    "    def on_bars(self, bars):\n",
    "        # print 'price:', bars[self.instrument].getClose()\n",
    "\n",
    "        # 数据太少,无法计算均线\n",
    "        if self.sma_long[-1] is None:\n",
    "            # print 'not enough bars for sma, skipped'\n",
    "            return\n",
    "\n",
    "        # 获取所有仓位\n",
    "        positions = list(self.getActivePositions())\n",
    "        if len(positions) > 1:\n",
    "            raise Exception('we should at most have one position in this strategy.')\n",
    "\n",
    "        # 价格位于均线之上 且 空仓, 开多仓\n",
    "        if self.sma_short[-1] > self.sma_long[-1]:\n",
    "            if len(positions) == 0:\n",
    "                shares = 1\n",
    "                self.enterLong(self.instrument, shares, True)  # 市价开仓\n",
    "\n",
    "        # 价格位于均线之下 且 有仓位, 平仓\n",
    "        elif self.sma_short[-1] < self.sma_long[-1]:\n",
    "            if len(positions) == 1:\n",
    "                position = positions[0]\n",
    "                if not position.exitActive():\n",
    "                    position.exitMarket()  # 市价平仓\n",
    "\n",
    "\n"
   ]
  },
  {
   "cell_type": "markdown",
   "metadata": {},
   "source": [
    "## 回测运行示例 sql"
   ]
  },
  {
   "cell_type": "code",
   "execution_count": 4,
   "metadata": {
    "collapsed": false
   },
   "outputs": [],
   "source": [
    "# coding=utf-8\n",
    "from datetime import datetime\n",
    "from myalgotrade.util import dbutil\n",
    "from myalgotrade.feed import Frequency, feed_manager\n",
    "from myalgotrade import strategy\n",
    "import multiprocessing\n",
    "import pprint\n",
    "\n",
    "# 参数定义见下个cell\n",
    "def run_sample_sql(experiment_key, strategy_class, instrument, param, start, end, frequency, before_days=0):\n",
    "\n",
    "    # 获取该品种的主力合约时间段\n",
    "    feed_infos = dbutil.get_dominant_contract_infos(instrument, frequency, start, end, before_days) \n",
    "    print 'feed infos:'\n",
    "    pprint.pprint(feed_infos)\n",
    "\n",
    "    feed_mng = feed_manager.DataServerFeedManager(feed_infos) # feed管理器\n",
    "    feeds_dict = feed_mng.get_feeds_by_range(start, end) #获取feed\n",
    "    print 'feeds:'\n",
    "    pprint.pprint(feeds_dict)\n",
    "\n",
    "    # log key 用来标识每次回测的log文件，这里采用 experiment_key + instrument\n",
    "    log_key = strategy.log_path_delimiter.join((experiment_key, instrument))\n",
    "    result = strategy.run_strategy(strategy_class, feeds_dict, log_key, param, initial_cash=1000000, use_previous_cash=False)\n",
    "\n",
    "#     process = multiprocessing.Process(target=result.analyze_result.plotEquityCurve, args=(log_key,))\n",
    "#     process.start()  #notebook中无法开多进程，在其他ide中跑\n",
    "\n",
    "    return result, log_key"
   ]
  },
  {
   "cell_type": "code",
   "execution_count": 5,
   "metadata": {
    "collapsed": false
   },
   "outputs": [
    {
     "name": "stdout",
     "output_type": "stream",
     "text": [
      "{'afterday': 0,\n",
      " 'beforday': 0,\n",
      " 'commodity': 'SR',\n",
      " 'dataName': 'domInfo',\n",
      " 'end': datetime.datetime(2014, 6, 1, 0, 0),\n",
      " 'start': datetime.datetime(2014, 1, 1, 0, 0)}\n",
      "feed infos:\n",
      "{'SR1405': (600,\n",
      "            datetime.datetime(2014, 1, 2, 0, 0),\n",
      "            (datetime.datetime(2014, 6, 10, 0, 0), )),\n",
      " 'SR1409': (600,\n",
      "            datetime.datetime(2014, 2, 21, 0, 0),\n",
      "            (datetime.datetime(2014, 6, 10, 0, 0), ))}\n"
     ]
    },
    {
     "ename": "TypeError",
     "evalue": "can't compare datetime.datetime to pyodbc.Row",
     "output_type": "error",
     "traceback": [
      "\u001b[1;31m---------------------------------------------------------------------------\u001b[0m",
      "\u001b[1;31mTypeError\u001b[0m                                 Traceback (most recent call last)",
      "\u001b[1;32m<ipython-input-5-85143838b720>\u001b[0m in \u001b[0;36m<module>\u001b[1;34m()\u001b[0m\n\u001b[0;32m     11\u001b[0m )\n\u001b[0;32m     12\u001b[0m \u001b[1;33m\u001b[0m\u001b[0m\n\u001b[1;32m---> 13\u001b[1;33m \u001b[0mresult\u001b[0m\u001b[1;33m,\u001b[0m \u001b[0mlog_key\u001b[0m \u001b[1;33m=\u001b[0m \u001b[0mrun_sample_sql\u001b[0m\u001b[1;33m(\u001b[0m\u001b[0minstrument\u001b[0m\u001b[1;33m=\u001b[0m\u001b[1;34m'SR'\u001b[0m\u001b[1;33m,\u001b[0m \u001b[1;33m**\u001b[0m\u001b[0margs\u001b[0m\u001b[1;33m)\u001b[0m\u001b[1;33m\u001b[0m\u001b[0m\n\u001b[0m",
      "\u001b[1;32m<ipython-input-4-a8b0d1253842>\u001b[0m in \u001b[0;36mrun_sample_sql\u001b[1;34m(experiment_key, strategy_class, instrument, param, start, end, frequency, before_days)\u001b[0m\n\u001b[0;32m     16\u001b[0m \u001b[1;33m\u001b[0m\u001b[0m\n\u001b[0;32m     17\u001b[0m     \u001b[0mfeed_mng\u001b[0m \u001b[1;33m=\u001b[0m \u001b[0mfeed_manager\u001b[0m\u001b[1;33m.\u001b[0m\u001b[0mDataServerFeedManager\u001b[0m\u001b[1;33m(\u001b[0m\u001b[0mfeed_infos\u001b[0m\u001b[1;33m)\u001b[0m \u001b[1;31m# feed管理器\u001b[0m\u001b[1;33m\u001b[0m\u001b[0m\n\u001b[1;32m---> 18\u001b[1;33m     \u001b[0mfeeds_dict\u001b[0m \u001b[1;33m=\u001b[0m \u001b[0mfeed_mng\u001b[0m\u001b[1;33m.\u001b[0m\u001b[0mget_feeds_by_range\u001b[0m\u001b[1;33m(\u001b[0m\u001b[0mstart\u001b[0m\u001b[1;33m,\u001b[0m \u001b[0mend\u001b[0m\u001b[1;33m)\u001b[0m \u001b[1;31m#获取feed\u001b[0m\u001b[1;33m\u001b[0m\u001b[0m\n\u001b[0m\u001b[0;32m     19\u001b[0m     \u001b[1;32mprint\u001b[0m \u001b[1;34m'feeds:'\u001b[0m\u001b[1;33m\u001b[0m\u001b[0m\n\u001b[0;32m     20\u001b[0m     \u001b[0mpprint\u001b[0m\u001b[1;33m.\u001b[0m\u001b[0mpprint\u001b[0m\u001b[1;33m(\u001b[0m\u001b[0mfeeds_dict\u001b[0m\u001b[1;33m)\u001b[0m\u001b[1;33m\u001b[0m\u001b[0m\n",
      "\u001b[1;32mD:\\workspace\\project\\algotrade\\myalgotrade\\feed\\feed_manager.py\u001b[0m in \u001b[0;36mget_feeds_by_range\u001b[1;34m(self, start_datetime, end_datetime, instrument_fileter)\u001b[0m\n\u001b[0;32m    101\u001b[0m                     \u001b[0mfrequency\u001b[0m\u001b[1;33m,\u001b[0m\u001b[1;33m\u001b[0m\u001b[0m\n\u001b[0;32m    102\u001b[0m                     \u001b[0mmax\u001b[0m\u001b[1;33m(\u001b[0m\u001b[0mstart_datetime\u001b[0m\u001b[1;33m,\u001b[0m \u001b[0mtotal_start_datetime\u001b[0m\u001b[1;33m)\u001b[0m\u001b[1;33m,\u001b[0m\u001b[1;33m\u001b[0m\u001b[0m\n\u001b[1;32m--> 103\u001b[1;33m                     \u001b[0mmin\u001b[0m\u001b[1;33m(\u001b[0m\u001b[0mend_datetime\u001b[0m\u001b[1;33m,\u001b[0m \u001b[0mtotal_end_datetime\u001b[0m\u001b[1;33m)\u001b[0m\u001b[1;33m\u001b[0m\u001b[0m\n\u001b[0m\u001b[0;32m    104\u001b[0m                 )\n\u001b[0;32m    105\u001b[0m         \u001b[0mfeed_dict\u001b[0m \u001b[1;33m=\u001b[0m \u001b[1;33m{\u001b[0m\u001b[1;33m}\u001b[0m\u001b[1;33m\u001b[0m\u001b[0m\n",
      "\u001b[1;31mTypeError\u001b[0m: can't compare datetime.datetime to pyodbc.Row"
     ]
    }
   ],
   "source": [
    "\n",
    "args = dict(\n",
    "    experiment_key = 'tutorial',            # log标识符\n",
    "    strategy_class = SampleStrategy,        # 回测的策略类\n",
    "    param = {'ma_short': 5, 'ma_long':40},  # 策略参数 \n",
    "    start = datetime(2014, 1, 1),           # 开始时间\n",
    "    end = datetime(2014, 6, 1),             # 结束时间\n",
    "    frequency = Frequency.MINUTE * 10,      # 输入bar的频率，这里是10分钟\n",
    "    before_days = 0,                        # 成为主力合约前多少天开始取数据\n",
    "    #instrument = 'SR',                     # 商品品种\n",
    ")\n",
    "\n",
    "result, log_key = run_sample_sql(instrument='SR', **args)"
   ]
  },
  {
   "cell_type": "code",
   "execution_count": null,
   "metadata": {
    "collapsed": false
   },
   "outputs": [],
   "source": [
    "pprint.pprint(result)"
   ]
  },
  {
   "cell_type": "code",
   "execution_count": null,
   "metadata": {
    "collapsed": false
   },
   "outputs": [],
   "source": [
    "result.show_result()"
   ]
  },
  {
   "cell_type": "code",
   "execution_count": null,
   "metadata": {
    "collapsed": false
   },
   "outputs": [],
   "source": [
    "'''day_summary_log是每日结算, 每天的累计利润\n",
    "   trade_log是交易记录\n",
    "   analyze_result是分析结果对象\n",
    "   sub_records是子记录，这里有两个合约分别的记录\n",
    "'''\n",
    "type(result.analyze_result)"
   ]
  },
  {
   "cell_type": "code",
   "execution_count": null,
   "metadata": {
    "collapsed": false
   },
   "outputs": [],
   "source": [
    "result.analyze_result.plotEquityCurve(log_key)"
   ]
  },
  {
   "cell_type": "code",
   "execution_count": null,
   "metadata": {
    "collapsed": false
   },
   "outputs": [],
   "source": [
    "# 挑出其中一个合约\n",
    "sub_result = result.sub_records['SR1409']\n",
    "sub_result"
   ]
  },
  {
   "cell_type": "code",
   "execution_count": null,
   "metadata": {
    "collapsed": false
   },
   "outputs": [],
   "source": [
    "# 进行结果分析\n",
    "sub_result.analyze()\n",
    "sub_result"
   ]
  },
  {
   "cell_type": "code",
   "execution_count": null,
   "metadata": {
    "collapsed": false
   },
   "outputs": [],
   "source": [
    "sub_result.show_result()"
   ]
  },
  {
   "cell_type": "code",
   "execution_count": null,
   "metadata": {
    "collapsed": false
   },
   "outputs": [],
   "source": [
    "sub_result.analyze_result.plotEquityCurve()"
   ]
  },
  {
   "cell_type": "code",
   "execution_count": null,
   "metadata": {
    "collapsed": false
   },
   "outputs": [],
   "source": [
    "!head $result.trade_log\n",
    "!head $result.day_summary_log"
   ]
  },
  {
   "cell_type": "code",
   "execution_count": null,
   "metadata": {
    "collapsed": false
   },
   "outputs": [],
   "source": [
    "# 在多个品种上回测， 最好别在notebook中运行，log太长太多，会在以后优化选项\n",
    "for instrument in ['SR', 'L', 'P', 'M', 'RB', 'RU']:\n",
    "    result, log_key = run_sample_sql(instrument = str.upper(instrument), **args)\n",
    "    print log_key\n",
    "    result = result.analyze_result\n",
    "    result.plotEquityCurve(log_key)  # notebook中直接画图\n",
    "#     process = multiprocessing.Process(target=result.plotEquityCurve, args=(log_key,)) # 不是notebook中用多进程画图\n",
    "#     process.start()\n",
    "print 'done'\n",
    "\n"
   ]
  },
  {
   "cell_type": "code",
   "execution_count": null,
   "metadata": {
    "collapsed": false
   },
   "outputs": [],
   "source": [
    "# 查看多品种合成的结果\n",
    "def get_combine_result(experiment_key, param_key, combine_set):\n",
    "    results = {}\n",
    "    for instrument in combine_set:\n",
    "            log_key = strategy.log_path_delimiter.join((experiment_key, instrument, param_key))\n",
    "            results[instrument] = strategy.StrategyRecord.construct_by_log_name(log_key)\n",
    "    result = strategy.combine_result(results, strategy.log_path_delimiter.join((experiment_key, param_key))).analyze_result\n",
    "    print experiment_key\n",
    "    print combine_set\n",
    "    return result"
   ]
  },
  {
   "cell_type": "code",
   "execution_count": null,
   "metadata": {
    "collapsed": false
   },
   "outputs": [],
   "source": [
    "param_key = SampleStrategy.get_log_key(args['param'])\n",
    "combine_set = ('SR', 'L', 'M', 'P')  #  要合成的品种                               \n",
    "result = get_combine_result(args['experiment_key'], param_key, combine_set)\n",
    "result.show_result()\n",
    "result.plotEquityCurve()"
   ]
  },
  {
   "cell_type": "code",
   "execution_count": null,
   "metadata": {
    "collapsed": true
   },
   "outputs": [],
   "source": []
  }
 ],
 "metadata": {
  "kernelspec": {
   "display_name": "Python 2",
   "language": "python",
   "name": "python2"
  },
  "language_info": {
   "codemirror_mode": {
    "name": "ipython",
    "version": 2
   },
   "file_extension": ".py",
   "mimetype": "text/x-python",
   "name": "python",
   "nbconvert_exporter": "python",
   "pygments_lexer": "ipython2",
   "version": "2.7.11"
  }
 },
 "nbformat": 4,
 "nbformat_minor": 0
}
