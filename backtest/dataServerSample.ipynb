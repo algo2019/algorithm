{
 "cells": [
  {
   "cell_type": "code",
   "execution_count": null,
   "metadata": {
    "collapsed": false
   },
   "outputs": [],
   "source": [
    "from dataServer import dataServer\n",
    "from pprint import pprint"
   ]
  },
  {
   "cell_type": "code",
   "execution_count": null,
   "metadata": {
    "collapsed": true
   },
   "outputs": [],
   "source": [
    "dataServer.CACHE_PATH = '.' #缓存文件位置，默认 .\n",
    "dataServer.CACHE = False #是否缓存，默认True\n",
    "d = dataServer()\n",
    "d.start()"
   ]
  },
  {
   "cell_type": "markdown",
   "metadata": {},
   "source": [
    "> 日期格式\n",
    "1. datatime格式\n",
    "2. '2016-06-01'\n",
    "3. '2016/06/01'\n",
    "4. '20160601'"
   ]
  },
  {
   "cell_type": "code",
   "execution_count": null,
   "metadata": {
    "collapsed": false
   },
   "outputs": [],
   "source": [
    "#日线数据\n",
    "res = d.wsd('a1609','close','2016-06-01','2016-06-16')\n",
    "res._print()"
   ]
  },
  {
   "cell_type": "code",
   "execution_count": null,
   "metadata": {
    "collapsed": false
   },
   "outputs": [],
   "source": [
    "#分钟级数据\n",
    "res = d.wsi('a1609','close','2016-06-05','2016-06-16', 'barSize=60')\n",
    "res._print()"
   ]
  },
  {
   "cell_type": "code",
   "execution_count": null,
   "metadata": {
    "collapsed": false
   },
   "outputs": [],
   "source": [
    "#交易日序列\n",
    "res = d.tdays('2016-06-01', '2016-06-16') #默认参数均为当前时间\n",
    "res.Data"
   ]
  },
  {
   "cell_type": "code",
   "execution_count": null,
   "metadata": {
    "collapsed": false
   },
   "outputs": [],
   "source": [
    "#前N个交易日, 位移向前（过去）为正数，向后（未来）为负数\n",
    "res = d.tdaysoffset(0, '20160111 010101')\n",
    "res._print()"
   ]
  },
  {
   "cell_type": "code",
   "execution_count": null,
   "metadata": {
    "collapsed": false
   },
   "outputs": [],
   "source": [
    "#取行情数据\n",
    "conf = {\n",
    "    'dataName':'data',\n",
    "    'code':'ag1605', #代码格式支持多种格式及大小写，品种支持 股票、股指期货、商品期货\n",
    "    'fields':'close,open,high,low,volume',  #当为这五项时，除1m以外的其他分钟级数据的开盘bar会合并至下一bar\n",
    "                                            #日线数据可用uplimit与downlimit\n",
    "    'start':'20160104', #可选，默认为当前日期\n",
    "    'end':'20160106', #可选，默认为当前日期\n",
    "    'period':'1m', #可选，默认为 1d，支持 1d 1m 5m 10m 15m 30m 60m\n",
    "    'tradingday': True, #可选，默认为Flase，是否以交易日期取数据，如果为True，将忽略时间；注意：前闭后开\n",
    "    'includeend': False, #可选，默认为Flase，是否包含结尾时间，注意：如用于多线程会导致交界数据重复！！！\n",
    "}\n",
    "res = d.wmm(conf)\n",
    "for line in res:\n",
    "    print line"
   ]
  },
  {
   "cell_type": "code",
   "execution_count": null,
   "metadata": {
    "collapsed": false
   },
   "outputs": [],
   "source": [
    "#取主力合约\n",
    "conf = {\n",
    "      'dataName':'domInfo' ,\n",
    "      'start':'20051101' ,\n",
    "      'end':'20051212' ,\n",
    "      'afterday':10 ,\n",
    "      'beforday':20 ,\n",
    "      'commodity':['a','B'] ,\n",
    "}\n",
    "pprint(d.wmm(conf))"
   ]
  },
  {
   "cell_type": "code",
   "execution_count": null,
   "metadata": {
    "collapsed": false
   },
   "outputs": [],
   "source": [
    "#批量取商品期货数据\n",
    "conf = {\n",
    "      'dataName':'futs' ,\n",
    "      'futs':[\n",
    "        [u'AL1502', 60*60*24 ,'20141124', '20141215'] ,\n",
    "        [u'AL1503', 60*60*24 ,'20141203', '20141223'] ,\n",
    "       ],\n",
    "      'fields':'high,open,low,close,volume' ,\n",
    "}\n",
    "print d.wmm(conf)"
   ]
  },
  {
   "cell_type": "code",
   "execution_count": null,
   "metadata": {
    "collapsed": false
   },
   "outputs": [],
   "source": [
    "#数据库直接查询接口\n",
    "conf = {\n",
    "    'dataName':'sql' ,\n",
    "    'dataBase':'gta' , #数据库系统 可选值为gta和choice，默认值为 gta\n",
    "    'dataBaseName':'test' , #数据库\n",
    "    #gta 默认值为 GTA_QIA_QDB 对应 Q产品库V2 3说明书（对外）.docx 文件\n",
    "    #choice 默认值为 test 对应 人人金服20160406.CHM 文件\n",
    "    'sql':'select * from tableName' ,\n",
    "}\n",
    "print d.wmm(conf)"
   ]
  }
 ],
 "metadata": {
  "kernelspec": {
   "display_name": "Python 2",
   "language": "python",
   "name": "python2"
  },
  "language_info": {
   "codemirror_mode": {
    "name": "ipython",
    "version": 2
   },
   "file_extension": ".py",
   "mimetype": "text/x-python",
   "name": "python",
   "nbconvert_exporter": "python",
   "pygments_lexer": "ipython2",
   "version": "2.7.12"
  }
 },
 "nbformat": 4,
 "nbformat_minor": 0
}
